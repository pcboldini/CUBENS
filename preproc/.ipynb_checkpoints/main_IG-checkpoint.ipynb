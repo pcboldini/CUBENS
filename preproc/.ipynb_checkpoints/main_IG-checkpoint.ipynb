{
 "cells": [
  {
   "cell_type": "code",
   "execution_count": 1,
   "metadata": {},
   "outputs": [],
   "source": [
    "# -\n",
    "#\n",
    "# SPDX-FileCopyrightText: Copyright (c) 2024 Pietro Carlo Boldini and the CUBENS contributors. All rights reserved.\n",
    "# SPDX-License-Identifier: MIT\n",
    "#\n",
    "# -\n",
    "\n",
    "import math as m\n",
    "import cmath as cm\n",
    "import numpy as np\n",
    "from numpy import linalg as npla\n",
    "\n",
    "from scipy.sparse.linalg import spsolve\n",
    "from scipy.sparse        import diags, hstack, vstack\n",
    "from scipy.integrate     import solve_bvp\n",
    "from scipy               import interpolate as intp\n",
    "\n",
    "from functools import partial\n",
    "\n",
    "import matplotlib.pyplot as plt\n",
    "from matplotlib import rc, rcParams\n",
    "\n",
    "%matplotlib inline\n",
    "%config InlineBackend.figure_format = 'retina'\n",
    "\n",
    "rc('font',**{'family':'sans-serif','sans-serif':['Helvetica']})\n",
    "rc('text', usetex=True)\n",
    "rcParams.update({'font.size': 18})\n",
    "rcParams['figure.figsize']   = [8,6]\n",
    "rcParams['mathtext.fontset'] = 'stix'\n",
    "rcParams['font.family']      = 'STIXGeneral'"
   ]
  },
  {
   "cell_type": "markdown",
   "metadata": {},
   "source": [
    "# Compressible self-similar solution for BLs"
   ]
  },
  {
   "cell_type": "markdown",
   "metadata": {},
   "source": [
    "$$\\frac{d}{d\\eta}\\left( C\\frac{d^2f}{d\\eta^2}\\right) + f\\frac{d^2f}{d\\eta^2}=0$$\n",
    "$$\\frac{d}{d\\eta}\\left( \\frac{C}{Pr}\\frac{d g}{d\\eta}\\right) + f\\frac{d g}{d\\eta} + C \\frac{u^2_\\infty}{h_\\infty}\\left( \\frac{d^2 f}{d\\eta^2}\\right)^2=0$$\n",
    "with\n",
    "$$ \\frac{df}{d\\eta} = \\frac{u}{u_\\infty}, \\quad g = \\frac{h}{h_\\infty}$$\n",
    "and\n",
    "$$C=\\frac{\\rho\\mu}{\\rho_\\infty \\mu_\\infty}, \\quad Pr=\\frac{\\mu c_p}{k}, \\quad Ec=\\frac{u^2_\\infty}{c_{p,\\infty}T_\\infty}$$"
   ]
  },
  {
   "cell_type": "markdown",
   "metadata": {},
   "source": [
    "# Boundary layer scaling\n",
    "\n",
    "Local Reynolds number:\n",
    "$$Re_{\\delta} = \\frac{\\rho_{\\infty} U_{\\infty} \\delta}{\\mu_{\\infty}} = \\sqrt{Re_{x}} = \\sqrt{\\frac{\\rho_{\\infty} U_{\\infty} x}{\\mu_{\\infty}}}$$\n",
    "\n",
    "Reynolds number in the DNS:\n",
    "$$Re_{\\delta_{99}} = Re_{\\delta} \\delta/\\delta_{99} $$\n",
    "\n",
    "Wall-normal velocity:\n",
    "$$ v Re_{\\delta}= \\left(\\frac{u \\eta}{\\sqrt{4.0}} - \\frac{f}{\\rho\\sqrt{2}}\\right) $$"
   ]
  },
  {
   "cell_type": "markdown",
   "metadata": {},
   "source": [
    "# Boundary-layer solver"
   ]
  },
  {
   "cell_type": "markdown",
   "metadata": {},
   "source": [
    "### first the definition of the functions\n",
    "### to calculate, go to the last section"
   ]
  },
  {
   "cell_type": "markdown",
   "metadata": {},
   "source": [
    "# Main classes for BL calculation"
   ]
  },
  {
   "cell_type": "code",
   "execution_count": 8,
   "metadata": {},
   "outputs": [],
   "source": [
    "class BL():     \n",
    "    def writeToFile(self):\n",
    "        file = open(\"inputDNS/initCHA_params.h\", \"w\")\n",
    "        file.write(\"!------------ use equation of state ------------------ \\n\")\n",
    "        file.write('USE_EOS  = \"IG\" \\n')\n",
    "        file.write(\"!------------ set non-dimensional free-stream values for computation ------------------ \\n\")\n",
    "        file.write(\"Pra   = %.10f \\n\" % self.Pr)\n",
    "        file.write(\"Ec   = %.10e \\n\" % self.Ec)\n",
    "        file.write(\"Ma   = %.10e \\n\" % self.Ma)\n",
    "        file.write(\"Tinf   = %.6f \\n\" % self.T_inf)\n",
    "        file.write(\"Pref   = %.6f \\n\" % self.Rg)\n",
    "        file.write(\"ig_gam   = %.6f \\n\" % self.gam)\n",
    "        file.write(\"eos_Rgas   = %.6f \\n\" % self.Rg)\n",
    "        file.write(\"eos_dof   = %.6f \\n\" % self.dof)\n",
    "        file.write(\"! ------------ set wall BC for computation ------------------ \\n\")\n",
    "        file.write(\"Twall_bot   = %.6f \\n\" % self.Twall_bot)\n",
    "        file.write(\"Twall_top   = %.6f \\n\" % self.Twall_top)\n",
    "        file.write(\"! ----------- set viscosity and conductivity ---------------- \\n\")\n",
    "        file.write('USE_VISC  = \"%s\" \\n' % self.visc_bc)\n",
    "        file.write(\"Smuref   = %.6f \\n\" % self.Smuref)\n",
    "        file.close()\n",
    "        \n",
    "    def showParameters(self):\n",
    "        \n",
    "        print(\"\\nDNS parameters:\\n\")\n",
    "        print(\"USE_EOS = IG \")\n",
    "        print(\"Pra = \", self.Pr)\n",
    "        print(\"Ec = \", self.Ec)\n",
    "        print(\"Ma = \", self.Ma)\n",
    "        print(\"eos_Rgas = \", self.Rg)\n",
    "        print(\"Pref = \", self.Rg)\n",
    "        print('USE_VISC  = ', self.visc_bc)\n",
    "        \n",
    "        print('\\nDNS initial conditions are saved in ../inputDNS/')\n",
    "        print('DNS parameters are saved in ../inputDNS/')"
   ]
  },
  {
   "cell_type": "code",
   "execution_count": 9,
   "metadata": {},
   "outputs": [],
   "source": [
    "class CHA_IG(BL):\n",
    "    def __init__(self, Ec = None, T_inf =None, Twall_bot=None, Twall_top=None, Pr = None, visc = None, gam = None):   \n",
    "        self.Ec = Ec       \n",
    "        self.Ma = (Ec/(gam-1.0))**0.5\n",
    "        self.Pr = Pr\n",
    "        self.T_inf = T_inf\n",
    "        self.Twall_bot = Twall_bot\n",
    "        self.Twall_top = Twall_top\n",
    "        self.gam = gam\n",
    "        self.Rg = 1/self.Ma**2/self.gam\n",
    "        self.dof = 9\n",
    "        if visc == 'PowerLaw':\n",
    "            self.expMu = 0.75\n",
    "            self.visc_bc = 'PowerLaw'\n",
    "        elif visc == 'Sutherland':\n",
    "            self.Smuref = 111\n",
    "            self.visc_bc = 'Sutherland'\n",
    "        elif visc == 'Constant':\n",
    "            self.visc_bc = 'Constant'\n",
    "            \n",
    "    def f_rh(self, T):\n",
    "        return 1.0/np.maximum(T,1.0e-6)\n",
    "\n",
    "    def f_mu(self, T, visc):\n",
    "        if visc == 'PowerLaw':\n",
    "            return np.maximum(T,1.0e-6)**self.expMu\n",
    "        elif visc == 'Sutherland':\n",
    "            S = self.Smuref/self.T_inf\n",
    "            return (1.0+S)*np.maximum(T,1.0e-6)**1.5/(np.maximum(T,1.0e-6)+S) \n",
    "        elif visc == 'Constant':\n",
    "            return np.maximum(T,1.0e-6)"
   ]
  },
  {
   "cell_type": "markdown",
   "metadata": {},
   "source": [
    "#  Set channel parameters with ideal gas"
   ]
  },
  {
   "cell_type": "code",
   "execution_count": 10,
   "metadata": {
    "scrolled": false
   },
   "outputs": [
    {
     "name": "stdout",
     "output_type": "stream",
     "text": [
      "\n",
      "DNS parameters:\n",
      "\n",
      "USE_EOS = IG \n",
      "Pra =  0.75\n",
      "Ec =  0.004\n",
      "Ma =  0.1\n",
      "eos_Rgas =  71.42857142857142\n",
      "Pref =  71.42857142857142\n",
      "USE_VISC  =  Sutherland\n",
      "wall_bc  =  adiab\n",
      "\n",
      "DNS initial conditions are saved in ../inputDNS/\n",
      "DNS parameters are saved in ../inputDNS/\n"
     ]
    }
   ],
   "source": [
    "# Input parameters of BL_IG:\n",
    "# 1) Eckert number (Mach number will be calculated)\n",
    "# 2) Free-stream temperature\n",
    "# 3) Ratio bottom temperature to free-stream temperature\n",
    "# 4) Ratio top temperature to free-stream temperature\n",
    "# 5) Prandtl number\n",
    "# 4) Viscosity law: 'exp' (PowerLaw) or 'Suth' (Sutherland)\n",
    "# 5) Ratio of specific heat\n",
    "# 6) Wall boundary condition: Tw_Tinf='None' for adiabatic or Tw_Tinf (Tw/Tinf) = ... for isothermal\n",
    "\n",
    "ig = CHA_IG(Ec=0.004,T_inf=300,Twall_bot=1.0,Twall_top=1.0,Pr=0.75,visc='Sutherland',gam=1.4)\n",
    "#ig.writeToFile()\n",
    "ig.showParameters()\n"
   ]
  },
  {
   "cell_type": "code",
   "execution_count": null,
   "metadata": {},
   "outputs": [],
   "source": []
  }
 ],
 "metadata": {
  "kernelspec": {
   "display_name": "Python 3 (ipykernel)",
   "language": "python",
   "name": "python3"
  },
  "language_info": {
   "codemirror_mode": {
    "name": "ipython",
    "version": 3
   },
   "file_extension": ".py",
   "mimetype": "text/x-python",
   "name": "python",
   "nbconvert_exporter": "python",
   "pygments_lexer": "ipython3",
   "version": "3.9.16"
  }
 },
 "nbformat": 4,
 "nbformat_minor": 4
}
