{
 "cells": [
  {
   "cell_type": "code",
   "execution_count": 1,
   "metadata": {},
   "outputs": [],
   "source": [
    "# -\n",
    "#\n",
    "# SPDX-FileCopyrightText: Copyright (c) 2024 Pietro Carlo Boldini and the CUBENS contributors. All rights reserved.\n",
    "# SPDX-License-Identifier: MIT\n",
    "#\n",
    "# -\n",
    "\n",
    "import math as m\n",
    "import cmath as cm\n",
    "import numpy as np\n",
    "from numpy import linalg as npla\n",
    "\n",
    "from scipy.sparse.linalg import spsolve\n",
    "from scipy.sparse        import diags, hstack, vstack\n",
    "from scipy.integrate     import solve_bvp\n",
    "from scipy               import interpolate as intp\n",
    "\n",
    "from functools import partial\n",
    "\n",
    "import matplotlib.pyplot as plt\n",
    "from matplotlib import rc, rcParams\n",
    "\n",
    "%matplotlib inline\n",
    "%config InlineBackend.figure_format = 'retina'\n",
    "\n",
    "rc('font',**{'family':'sans-serif','sans-serif':['Helvetica']})\n",
    "rc('text', usetex=True)\n",
    "rcParams.update({'font.size': 18})\n",
    "rcParams['figure.figsize']   = [8,6]\n",
    "rcParams['mathtext.fontset'] = 'stix'\n",
    "rcParams['font.family']      = 'STIXGeneral'"
   ]
  },
  {
   "cell_type": "markdown",
   "metadata": {},
   "source": [
    "# Main classes for CHA calculation"
   ]
  },
  {
   "cell_type": "code",
   "execution_count": 5,
   "metadata": {},
   "outputs": [],
   "source": [
    "class BL():     \n",
    "    def writeToFile(self):\n",
    "        file = open(\"inputDNS/initCHA_params.h\", \"w\")\n",
    "        file.write(\"!------------ use equation of state ------------------ \\n\")\n",
    "        file.write('USE_EOS  = \"IG\" \\n')\n",
    "        file.write(\"!------------ set non-dimensional reference values for computation ------------------ \\n\")\n",
    "        file.write(\"Pra   = %.10f \\n\" % self.Pr)\n",
    "        file.write(\"Ec   = %.10e \\n\" % self.Ec)\n",
    "        file.write(\"Ma   = %.10e \\n\" % self.Ma)\n",
    "        file.write(\"Pref   = %.6f \\n\" % self.Rg)\n",
    "        file.write(\"ig_gam   = %.6f \\n\" % self.gam)\n",
    "        file.write(\"eos_Rgas   = %.6f \\n\" % self.Rg)\n",
    "        file.write(\"eos_dof   = %.6f \\n\" % self.dof)\n",
    "        file.write(\"! ------------ set wall BC for computation ------------------ \\n\")\n",
    "        file.write(\"Twall_bot   = %.6f \\n\" % self.Twall_bot)\n",
    "        file.write(\"Twall_top   = %.6f \\n\" % self.Twall_top)\n",
    "        file.write(\"! ----------- set viscosity and conductivity ---------------- \\n\")\n",
    "        file.write('USE_VISC  = \"%s\" \\n' % self.visc_bc)\n",
    "        if self.visc_bc == 'Sutherland':\n",
    "            file.write(\"Smuref   = %.6f \\n\" % self.Smuref)\n",
    "            file.write(\"Tinf   = %.6f \\n\" % self.T_inf)\n",
    "        file.close()\n",
    "        \n",
    "    def showParameters(self):\n",
    "        \n",
    "        print(\"\\nDNS parameters:\\n\")\n",
    "        print(\"USE_EOS = IG \")\n",
    "        print(\"Pra = \", self.Pr)\n",
    "        print(\"Ec = \", self.Ec)\n",
    "        print(\"Ma = \", self.Ma)\n",
    "        print(\"eos_Rgas = \", self.Rg)\n",
    "        print(\"Pref = \", self.Rg)\n",
    "        print('USE_VISC  = ', self.visc_bc)\n",
    "        \n",
    "        print('\\nDNS initial conditions are saved in ../inputDNS/')\n",
    "        print('DNS parameters are saved in ../inputDNS/')"
   ]
  },
  {
   "cell_type": "code",
   "execution_count": 6,
   "metadata": {},
   "outputs": [],
   "source": [
    "class CHA_IG(BL):\n",
    "    def __init__(self, Ec = None, Twall_bot=None, Twall_top=None, Pr = None, visc = None, T_inf =None, gam = None):   \n",
    "        self.Ec = Ec       \n",
    "        self.Ma = (Ec/(gam-1.0))**0.5\n",
    "        self.Pr = Pr\n",
    "        self.Twall_bot = Twall_bot\n",
    "        self.Twall_top = Twall_top\n",
    "        self.gam = gam\n",
    "        self.Rg = 1/self.Ma**2/self.gam\n",
    "        self.dof = 9\n",
    "        if visc == 'PowerLaw':\n",
    "            self.expMu = 0.75\n",
    "            self.visc_bc = 'PowerLaw'\n",
    "        elif visc == 'Sutherland':\n",
    "            self.Smuref = 111\n",
    "            self.visc_bc = 'Sutherland'\n",
    "            self.T_inf = T_inf\n",
    "        elif visc == 'Constant':\n",
    "            self.visc_bc = 'Constant'\n",
    "            \n",
    "    def f_rh(self, T):\n",
    "        return 1.0/np.maximum(T,1.0e-6)\n",
    "\n",
    "    def f_mu(self, T, visc):\n",
    "        if visc == 'PowerLaw':\n",
    "            return np.maximum(T,1.0e-6)**self.expMu\n",
    "        elif visc == 'Sutherland':\n",
    "            S = self.Smuref/self.T_inf\n",
    "            return (1.0+S)*np.maximum(T,1.0e-6)**1.5/(np.maximum(T,1.0e-6)+S) \n",
    "        elif visc == 'Constant':\n",
    "            return np.maximum(T,1.0e-6)"
   ]
  },
  {
   "cell_type": "markdown",
   "metadata": {},
   "source": [
    "#  Set channel parameters with ideal gas"
   ]
  },
  {
   "cell_type": "code",
   "execution_count": 7,
   "metadata": {
    "scrolled": false
   },
   "outputs": [
    {
     "name": "stdout",
     "output_type": "stream",
     "text": [
      "\n",
      "DNS parameters:\n",
      "\n",
      "USE_EOS = IG \n",
      "Pra =  0.75\n",
      "Ec =  0.004\n",
      "Ma =  0.1\n",
      "eos_Rgas =  71.42857142857142\n",
      "Pref =  71.42857142857142\n",
      "USE_VISC  =  Sutherland\n",
      "\n",
      "DNS initial conditions are saved in ../inputDNS/\n",
      "DNS parameters are saved in ../inputDNS/\n"
     ]
    }
   ],
   "source": [
    "# Input parameters of CHA_IG:\n",
    "# 1) Reference Eckert number (Mach number will be calculated): Ec = u^2_b/(Cp_ref T_ref)\n",
    "# 2) Ratio: bottom wall temperature to reference temperature\n",
    "# 3) Ratio: top wall temperature to reference temperature\n",
    "# 4) Reference Prandtl number\n",
    "# 5) Viscosity law: 'PowerLaw', 'Sutherland', or 'Constant'\n",
    "# 6) Reference temperature for Sutherland\n",
    "# 7) Ratio of specific heat\n",
    "\n",
    "ig = CHA_IG(Ec=0.004,Twall_bot=1.0,Twall_top=1.0,Pr=0.75,visc='Sutherland',T_inf=300,gam=1.4)\n",
    "ig.writeToFile()\n",
    "ig.showParameters()\n"
   ]
  },
  {
   "cell_type": "code",
   "execution_count": null,
   "metadata": {},
   "outputs": [],
   "source": []
  }
 ],
 "metadata": {
  "kernelspec": {
   "display_name": "Python 3 (ipykernel)",
   "language": "python",
   "name": "python3"
  },
  "language_info": {
   "codemirror_mode": {
    "name": "ipython",
    "version": 3
   },
   "file_extension": ".py",
   "mimetype": "text/x-python",
   "name": "python",
   "nbconvert_exporter": "python",
   "pygments_lexer": "ipython3",
   "version": "3.9.16"
  }
 },
 "nbformat": 4,
 "nbformat_minor": 4
}
