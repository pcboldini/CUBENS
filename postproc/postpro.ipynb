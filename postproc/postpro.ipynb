{
 "cells": [
  {
   "cell_type": "code",
   "execution_count": 1,
   "metadata": {},
   "outputs": [],
   "source": [
    "import numpy as np\n",
    "\n",
    "import matplotlib\n",
    "import matplotlib.pyplot as plt\n",
    "%matplotlib inline\n",
    "%config InlineBackend.figure_format = 'retina'\n",
    "matplotlib.rcParams.update({'font.size': 14})\n",
    "matplotlib.rcParams['figure.figsize'] = [8,6]\n",
    "\n",
    "\n",
    "from writexmf import writexmf\n"
   ]
  },
  {
   "cell_type": "markdown",
   "metadata": {},
   "source": [
    "### Fluctuations"
   ]
  },
  {
   "cell_type": "code",
   "execution_count": 2,
   "metadata": {},
   "outputs": [],
   "source": [
    "# def getfluc(name,npts,timestamp):\n",
    "#     c = 0\n",
    "#     avg = np.zeros(npts,precision)\n",
    "\n",
    "#     for t in timestamp:\n",
    "#         avg += np.fromfile(\"{0}.{1:07d}.bin\".format(name,t), dtype=precision)\n",
    "#         c += 1\n",
    "\n",
    "#     avg /= c\n",
    "\n",
    "#     for t in timestamp:\n",
    "#         data = avg - np.fromfile(\"{0}.{1:07d}.bin\".format(name,t), dtype=precision)\n",
    "#         data.tofile(\"{0}.fluc.{1:07d}.bin\".format(name,t))\n",
    "        \n",
    "def getfluc(name,npts,timestamp):\n",
    "    \n",
    "    data0 = np.fromfile(\"{0}.{1:07d}.bin\".format(name,0), dtype=precision)\n",
    "\n",
    "    for t in timestamp:\n",
    "        data = np.fromfile(\"{0}.{1:07d}.bin\".format(name,t), dtype=precision) - data0\n",
    "        data.tofile(\"{0}.fluc.{1:07d}.bin\".format(name,t))"
   ]
  },
  {
   "cell_type": "markdown",
   "metadata": {},
   "source": [
    "### Load coordinates"
   ]
  },
  {
   "cell_type": "code",
   "execution_count": 3,
   "metadata": {},
   "outputs": [
    {
     "name": "stdout",
     "output_type": "stream",
     "text": [
      "300 30.0\n",
      "1 1.0\n",
      "200 1037.1087109375\n",
      "[  0 100 200 300]\n"
     ]
    }
   ],
   "source": [
    "precision = 'double'\n",
    "directory = \"planes\"\n",
    "\n",
    "# get coordinates\n",
    "x = np.fromfile('../../'+directory+'/x.bin', dtype=precision); print(x.size, max(x))\n",
    "y = np.fromfile('../../'+directory+'/y.bin', dtype=precision); print(y.size, max(y))\n",
    "z = np.fromfile('../../'+directory+'/z.bin', dtype=precision); print(z.size, max(z))\n",
    "\n",
    "timestamps = np.arange(0,301, 100)\n",
    "# timestamps = [1050000]\n",
    "print(timestamps)\n",
    "\n",
    "writexmf(\"../../yplanes.xmf\", precision, \\\n",
    "         x*30.0, [y[0]], z, \\\n",
    "         timestamp = timestamps, dt = 1.0, \\\n",
    "         dataNames = [directory + '/ypl.r',\\\n",
    "                      directory + '/ypl.p',\\\n",
    "                      directory + '/ypl.t',\\\n",
    "                      directory + '/ypl.e',\\\n",
    "                      directory + '/ypl.u',\\\n",
    "                      directory + '/ypl.w',\\\n",
    "                      directory + '/ypl.md1',\\\n",
    "                      directory + '/ypl.md2',\\\n",
    "                      directory + '/ypl.md3'] )\n",
    "\n",
    "\n",
    "# writexmf(\"../../yplanes_first.xmf\", precision, \\\n",
    "#          x*1.0, [y[0]], z, \\\n",
    "#          timestamp = [0], dt = 1.0, \\\n",
    "#          dataNames = [directory + '/ypl.r',\\\n",
    "#                       directory + '/ypl.p',\\\n",
    "#                       directory + '/ypl.t',\\\n",
    "#                       directory + '/ypl.e',\\\n",
    "#                       directory + '/ypl.u',\\\n",
    "#                       directory + '/ypl.w',\\\n",
    "#                       directory + '/ypl.md1'] )\n",
    "\n",
    "\n",
    "# writexmf(\"../../xplanes_snell.xmf\", precision, \\\n",
    "#          [x[25]], y, z, \\\n",
    "#          timestamp = timestamps, dt = 1.0, \\\n",
    "#          dataNames = [directory + '/xpl.r',\\\n",
    "#                       directory + '/xpl.p',\\\n",
    "#                       directory + '/xpl.t',\\\n",
    "#                       directory + '/xpl.e',\\\n",
    "#                       directory + '/xpl.u',\\\n",
    "#                       directory + '/xpl.w'] )\n"
   ]
  },
  {
   "cell_type": "code",
   "execution_count": null,
   "metadata": {},
   "outputs": [],
   "source": []
  },
  {
   "cell_type": "code",
   "execution_count": 4,
   "metadata": {
    "scrolled": true
   },
   "outputs": [
    {
     "name": "stdout",
     "output_type": "stream",
     "text": [
      "0.13125\n"
     ]
    }
   ],
   "source": [
    "dz = 1050/8000\n",
    "print(dz)"
   ]
  },
  {
   "cell_type": "code",
   "execution_count": 5,
   "metadata": {},
   "outputs": [
    {
     "name": "stdout",
     "output_type": "stream",
     "text": [
      "0.07875\n",
      "507.93650793650795\n"
     ]
    }
   ],
   "source": [
    "dy = dz*0.6; print(dy)\n",
    "ny = 40/dy; print(ny)"
   ]
  },
  {
   "cell_type": "code",
   "execution_count": null,
   "metadata": {},
   "outputs": [],
   "source": []
  },
  {
   "cell_type": "code",
   "execution_count": null,
   "metadata": {},
   "outputs": [],
   "source": []
  },
  {
   "cell_type": "code",
   "execution_count": null,
   "metadata": {},
   "outputs": [],
   "source": []
  },
  {
   "cell_type": "code",
   "execution_count": null,
   "metadata": {},
   "outputs": [],
   "source": []
  },
  {
   "cell_type": "code",
   "execution_count": 6,
   "metadata": {},
   "outputs": [
    {
     "data": {
      "text/plain": [
       "49.72705006001741"
      ]
     },
     "execution_count": 6,
     "metadata": {},
     "output_type": "execute_result"
    }
   ],
   "source": [
    "0.389283/0.78283952E-2"
   ]
  },
  {
   "cell_type": "code",
   "execution_count": 7,
   "metadata": {},
   "outputs": [
    {
     "data": {
      "text/plain": [
       "2.5688252505246827"
      ]
     },
     "execution_count": 7,
     "metadata": {},
     "output_type": "execute_result"
    }
   ],
   "source": [
    "1/0.389283"
   ]
  },
  {
   "cell_type": "code",
   "execution_count": 8,
   "metadata": {},
   "outputs": [],
   "source": [
    "T = 2*np.pi/0.389283"
   ]
  },
  {
   "cell_type": "code",
   "execution_count": 9,
   "metadata": {},
   "outputs": [],
   "source": [
    "dt = 0.78283952E-02"
   ]
  },
  {
   "cell_type": "code",
   "execution_count": 10,
   "metadata": {},
   "outputs": [
    {
     "data": {
      "text/plain": [
       "0.0016140405070808606"
      ]
     },
     "execution_count": 10,
     "metadata": {},
     "output_type": "execute_result"
    }
   ],
   "source": [
    "T/10000"
   ]
  },
  {
   "cell_type": "code",
   "execution_count": 11,
   "metadata": {},
   "outputs": [
    {
     "data": {
      "text/plain": [
       "0.0078283952"
      ]
     },
     "execution_count": 11,
     "metadata": {},
     "output_type": "execute_result"
    }
   ],
   "source": [
    "0.78283952E-02"
   ]
  },
  {
   "cell_type": "code",
   "execution_count": null,
   "metadata": {},
   "outputs": [],
   "source": []
  },
  {
   "cell_type": "code",
   "execution_count": 12,
   "metadata": {},
   "outputs": [
    {
     "name": "stdout",
     "output_type": "stream",
     "text": [
      "300 1 200\n",
      "[    0  1000  2000  3000  4000  5000  6000  7000  8000  9000 10000 11000\n",
      " 12000 13000 14000 15000 16000 17000 18000 19000 20000 21000 22000 23000\n",
      " 24000 25000 26000 27000 28000 29000 30000 31000 32000 33000 34000 35000\n",
      " 36000 37000 38000 39000 40000 41000 42000 43000 44000 45000 46000 47000\n",
      " 48000 49000 50000]\n"
     ]
    }
   ],
   "source": [
    "precision = 'double'\n",
    "\n",
    "# get coordinates\n",
    "x = np.fromfile('../../planes/x.bin', dtype=precision)\n",
    "y = np.fromfile('../../planes/y.bin', dtype=precision)\n",
    "z = np.fromfile('../../planes/z.bin', dtype=precision)\n",
    "\n",
    "imax = np.size(x)\n",
    "jmax = np.size(y)\n",
    "kmax = np.size(z)\n",
    "\n",
    "print(imax,jmax,kmax)\n",
    "\n",
    "\n",
    "# timestamps = np.arange(0,850001,10000)\n",
    "timestamps = np.arange(0,50001,1000)\n",
    "print(timestamps)\n",
    "\n",
    "# getfluc('../../planes/ypl.r', kmax*jmax, timestamps)\n",
    "# getfluc('../../planes/ypl.p', kmax*jmax, timestamps)\n",
    "# getfluc('../../planes/ypl.t', kmax*jmax, timestamps)\n",
    "# getfluc('../../planes/ypl.u', kmax*jmax, timestamps)\n",
    "# getfluc('../../planes/ypl.w', kmax*jmax, timestamps)\n",
    "\n",
    "\n",
    "writexmf(\"../../yplanes.xmf\", precision, \\\n",
    "         x*20, [y[0]], z, \\\n",
    "         timestamp = timestamps, dt = 1.0, \\\n",
    "         dataNames = ['planes/ypl.r',\\\n",
    "                      'planes/ypl.p',\\\n",
    "                      'planes/ypl.t',\\\n",
    "                      'planes/ypl.e',\\\n",
    "                      'planes/ypl.u',\\\n",
    "                      'planes/ypl.w'])\n"
   ]
  },
  {
   "cell_type": "code",
   "execution_count": null,
   "metadata": {},
   "outputs": [],
   "source": []
  },
  {
   "cell_type": "code",
   "execution_count": null,
   "metadata": {},
   "outputs": [],
   "source": []
  },
  {
   "cell_type": "code",
   "execution_count": null,
   "metadata": {},
   "outputs": [],
   "source": []
  },
  {
   "cell_type": "code",
   "execution_count": 13,
   "metadata": {},
   "outputs": [],
   "source": [
    "writexmf(\"../../yplanes.xmf\", precision, \\\n",
    "         x*10, [y[0]], z, \\\n",
    "         timestamp = timestamps, dt = 1.0, \\\n",
    "         dataNames = ['planes/ypl.r',\\\n",
    "                      'planes/ypl.p',\\\n",
    "                      'planes/ypl.t',\\\n",
    "                      'planes/ypl.e',\\\n",
    "                      'planes/ypl.u',\\\n",
    "                      'planes/ypl.w'])\n",
    "\n",
    "# writexmf(\"../../yplanes.fluc.xmf\", precision, \\\n",
    "#          x*10, [y[0]], z, \\\n",
    "#          timestamp = timestamps, dt = 1.0, \\\n",
    "#          dataNames = ['planes/ypl.r.fluc',\\\n",
    "#                       'planes/ypl.p.fluc',\\\n",
    "#                       'planes/ypl.t.fluc',\\\n",
    "#                       'planes/ypl.u.fluc',\\\n",
    "#                       'planes/ypl.w.fluc'])"
   ]
  },
  {
   "cell_type": "code",
   "execution_count": null,
   "metadata": {},
   "outputs": [],
   "source": []
  },
  {
   "cell_type": "code",
   "execution_count": 14,
   "metadata": {},
   "outputs": [
    {
     "data": {
      "text/plain": [
       "[<matplotlib.lines.Line2D at 0x7fbed6ad7550>]"
      ]
     },
     "execution_count": 14,
     "metadata": {},
     "output_type": "execute_result"
    },
    {
     "data": {
      "image/png": "[encoded data removed]",
      "text/plain": [
       "<Figure size 576x432 with 1 Axes>"
      ]
     },
     "metadata": {
      "image/png": {
       "height": 361,
       "width": 490
      },
      "needs_background": "light"
     },
     "output_type": "display_data"
    }
   ],
   "source": [
    "x = np.linspace(0,10,100)\n",
    "y = np.tanh(x)\n",
    "plt.plot(x,y)"
   ]
  },
  {
   "cell_type": "code",
   "execution_count": null,
   "metadata": {},
   "outputs": [],
   "source": []
  },
  {
   "cell_type": "code",
   "execution_count": 15,
   "metadata": {},
   "outputs": [
    {
     "ename": "FileNotFoundError",
     "evalue": "[Errno 2] No such file or directory: '../../planes_casep85/x.bin'",
     "output_type": "error",
     "traceback": [
      "\u001b[0;31m---------------------------------------------------------------------------\u001b[0m",
      "\u001b[0;31mFileNotFoundError\u001b[0m                         Traceback (most recent call last)",
      "\u001b[0;32m<ipython-input-15-e23c64ab0379>\u001b[0m in \u001b[0;36m<module>\u001b[0;34m\u001b[0m\n\u001b[1;32m      1\u001b[0m \u001b[0mx1\u001b[0m \u001b[0;34m=\u001b[0m \u001b[0mnp\u001b[0m\u001b[0;34m.\u001b[0m\u001b[0mfromfile\u001b[0m\u001b[0;34m(\u001b[0m\u001b[0;34m'../../planes/x.bin'\u001b[0m\u001b[0;34m,\u001b[0m \u001b[0mdtype\u001b[0m\u001b[0;34m=\u001b[0m\u001b[0mprecision\u001b[0m\u001b[0;34m)\u001b[0m\u001b[0;34m\u001b[0m\u001b[0;34m\u001b[0m\u001b[0m\n\u001b[0;32m----> 2\u001b[0;31m \u001b[0mx2\u001b[0m \u001b[0;34m=\u001b[0m \u001b[0mnp\u001b[0m\u001b[0;34m.\u001b[0m\u001b[0mfromfile\u001b[0m\u001b[0;34m(\u001b[0m\u001b[0;34m'../../planes_casep85/x.bin'\u001b[0m\u001b[0;34m,\u001b[0m \u001b[0mdtype\u001b[0m\u001b[0;34m=\u001b[0m\u001b[0mprecision\u001b[0m\u001b[0;34m)\u001b[0m\u001b[0;34m\u001b[0m\u001b[0;34m\u001b[0m\u001b[0m\n\u001b[0m\u001b[1;32m      3\u001b[0m \u001b[0mplt\u001b[0m\u001b[0;34m.\u001b[0m\u001b[0mplot\u001b[0m\u001b[0;34m(\u001b[0m\u001b[0mx1\u001b[0m\u001b[0;34m,\u001b[0m\u001b[0;34m'rx-'\u001b[0m\u001b[0;34m)\u001b[0m\u001b[0;34m\u001b[0m\u001b[0;34m\u001b[0m\u001b[0m\n\u001b[1;32m      4\u001b[0m \u001b[0mplt\u001b[0m\u001b[0;34m.\u001b[0m\u001b[0mplot\u001b[0m\u001b[0;34m(\u001b[0m\u001b[0mx2\u001b[0m\u001b[0;34m,\u001b[0m\u001b[0;34m'bx-'\u001b[0m\u001b[0;34m)\u001b[0m\u001b[0;34m\u001b[0m\u001b[0;34m\u001b[0m\u001b[0m\n\u001b[1;32m      5\u001b[0m \u001b[0;31m# plt.xlim((0,5))\u001b[0m\u001b[0;34m\u001b[0m\u001b[0;34m\u001b[0m\u001b[0;34m\u001b[0m\u001b[0m\n",
      "\u001b[0;31mFileNotFoundError\u001b[0m: [Errno 2] No such file or directory: '../../planes_casep85/x.bin'"
     ]
    }
   ],
   "source": [
    "x1 = np.fromfile('../../planes/x.bin', dtype=precision)\n",
    "x2 = np.fromfile('../../planes_casep85/x.bin', dtype=precision)\n",
    "plt.plot(x1,'rx-')\n",
    "plt.plot(x2,'bx-')\n",
    "# plt.xlim((0,5))\n",
    "# plt.ylim((0,0.04))"
   ]
  },
  {
   "cell_type": "code",
   "execution_count": 16,
   "metadata": {},
   "outputs": [
    {
     "ename": "NameError",
     "evalue": "name 'x2' is not defined",
     "output_type": "error",
     "traceback": [
      "\u001b[0;31m---------------------------------------------------------------------------\u001b[0m",
      "\u001b[0;31mNameError\u001b[0m                                 Traceback (most recent call last)",
      "\u001b[0;32m<ipython-input-16-3490cd7ccbe9>\u001b[0m in \u001b[0;36m<module>\u001b[0;34m\u001b[0m\n\u001b[0;32m----> 1\u001b[0;31m \u001b[0mprint\u001b[0m\u001b[0;34m(\u001b[0m\u001b[0mx1\u001b[0m\u001b[0;34m[\u001b[0m\u001b[0;36m1\u001b[0m\u001b[0;34m]\u001b[0m\u001b[0;34m,\u001b[0m\u001b[0mx2\u001b[0m\u001b[0;34m[\u001b[0m\u001b[0;36m1\u001b[0m\u001b[0;34m]\u001b[0m\u001b[0;34m)\u001b[0m\u001b[0;34m\u001b[0m\u001b[0;34m\u001b[0m\u001b[0m\n\u001b[0m",
      "\u001b[0;31mNameError\u001b[0m: name 'x2' is not defined"
     ]
    }
   ],
   "source": [
    "print(x1[1],x2[1])"
   ]
  },
  {
   "cell_type": "code",
   "execution_count": 17,
   "metadata": {},
   "outputs": [
    {
     "data": {
      "text/plain": [
       "300"
      ]
     },
     "execution_count": 17,
     "metadata": {},
     "output_type": "execute_result"
    }
   ],
   "source": [
    "x1.size"
   ]
  },
  {
   "cell_type": "code",
   "execution_count": 18,
   "metadata": {},
   "outputs": [
    {
     "name": "stdout",
     "output_type": "stream",
     "text": [
      "304.1282 73.773\n"
     ]
    },
    {
     "data": {
      "text/plain": [
       "<matplotlib.legend.Legend at 0x7fbe8a4b10a0>"
      ]
     },
     "execution_count": 18,
     "metadata": {},
     "output_type": "execute_result"
    },
    {
     "data": {
      "image/png": "[encoded data removed]",
      "text/plain": [
       "<Figure size 576x432 with 1 Axes>"
      ]
     },
     "metadata": {
      "image/png": {
       "height": 361,
       "width": 476
      },
      "needs_background": "light"
     },
     "output_type": "display_data"
    }
   ],
   "source": [
    "from CoolProp.CoolProp import PropsSI \n",
    "fl = \"CO2\"\n",
    "Tc = PropsSI(\"Tcrit\", fl)\n",
    "Pc = PropsSI(\"Pcrit\", fl)\n",
    "\n",
    "print(Tc, Pc/1e5)\n",
    "\n",
    "T = np.linspace(Tc*0.9, Tc*1.2, 200)\n",
    "Pr1 = PropsSI('Prandtl', 'P', 85e5, 'T', T, fl)\n",
    "Pr2 = PropsSI('Prandtl', 'P', 90e5, 'T', T, fl)\n",
    "\n",
    "plt.plot(T, Pr1, 'r', label=str(round(np.amax(Pr1), 4)))\n",
    "plt.plot(T, Pr2, 'b', label=str(round(np.amax(Pr2), 4)))\n",
    "plt.legend()"
   ]
  },
  {
   "cell_type": "code",
   "execution_count": null,
   "metadata": {},
   "outputs": [],
   "source": []
  },
  {
   "cell_type": "code",
   "execution_count": 19,
   "metadata": {},
   "outputs": [
    {
     "data": {
      "text/plain": [
       "[<matplotlib.lines.Line2D at 0x7fbe8a432610>]"
      ]
     },
     "execution_count": 19,
     "metadata": {},
     "output_type": "execute_result"
    },
    {
     "data": {
      "image/png": "[encoded data removed]",
      "text/plain": [
       "<Figure size 576x432 with 1 Axes>"
      ]
     },
     "metadata": {
      "image/png": {
       "height": 361,
       "width": 490
      },
      "needs_background": "light"
     },
     "output_type": "display_data"
    }
   ],
   "source": [
    "i = np.arange(300)+1\n",
    "fact = 0.5*(np.tanh((i-10)*0.5) + np.tanh((290-i)*0.5))\n",
    "plt.plot(i,fact,'o')"
   ]
  },
  {
   "cell_type": "code",
   "execution_count": null,
   "metadata": {},
   "outputs": [],
   "source": []
  },
  {
   "cell_type": "code",
   "execution_count": null,
   "metadata": {},
   "outputs": [],
   "source": []
  },
  {
   "cell_type": "code",
   "execution_count": 20,
   "metadata": {},
   "outputs": [
    {
     "data": {
      "text/plain": [
       "[<matplotlib.lines.Line2D at 0x7fbe8a414340>]"
      ]
     },
     "execution_count": 20,
     "metadata": {},
     "output_type": "execute_result"
    },
    {
     "data": {
      "image/png": "[encoded data removed]",
      "text/plain": [
       "<Figure size 576x432 with 1 Axes>"
      ]
     },
     "metadata": {
      "image/png": {
       "height": 361,
       "width": 510
      },
      "needs_background": "light"
     },
     "output_type": "display_data"
    }
   ],
   "source": [
    "k_ = np.arange(150)\n",
    "u = 0.0*k_\n",
    "\n",
    "kC  = 100\n",
    "LP  = 40\n",
    "kSt = kC - LP/2.0\n",
    "kEn = kC + LP/2.0\n",
    "\n",
    "amp1   = 1.0\n",
    "amp2   = 2.0\n",
    "omega1 = 1.0\n",
    "omega2 = 1.0\n",
    "time   = 1.0\n",
    "\n",
    "for k in np.arange(kSt,kEn, 1, dtype=int):\n",
    "\n",
    "    if (k <= kC):\n",
    "        kappa = 1.0\n",
    "        alpha = k - kSt\n",
    "        beta = kC - kSt\n",
    "    else:\n",
    "        kappa = -1.0\n",
    "        alpha = kEn - k\n",
    "        beta = kEn - kC\n",
    "\n",
    "    ksi = alpha/beta\n",
    "\n",
    "    g = (15.1875*ksi**5) - (35.4375*ksi**4) + (20.25*ksi**3)\n",
    "\n",
    "#     do j = 1,xsize(2)\n",
    "#     y_glob = (j + xstart(2) - 1)*dy\n",
    "    u[k] = amp1*kappa*g*np.sin(omega1*time) #\\\n",
    "#     + amp2*kappa*g*np.sin(omega2*time)#*cos(2.0*pi*y_glob/lamda)\n",
    "#     enddo\n",
    "\n",
    "#   endif\n",
    "# enddo  \n",
    "\n",
    "\n",
    "plt.plot(k_,u)"
   ]
  },
  {
   "cell_type": "code",
   "execution_count": null,
   "metadata": {},
   "outputs": [],
   "source": []
  },
  {
   "cell_type": "code",
   "execution_count": null,
   "metadata": {},
   "outputs": [],
   "source": []
  },
  {
   "cell_type": "code",
   "execution_count": 21,
   "metadata": {},
   "outputs": [
    {
     "name": "stdout",
     "output_type": "stream",
     "text": [
      "2.5\n",
      "20.0\n"
     ]
    }
   ],
   "source": [
    "dz = 500.0/200.0; print(dz)\n",
    "kc = 50/dz; print(kc)"
   ]
  },
  {
   "cell_type": "code",
   "execution_count": 22,
   "metadata": {},
   "outputs": [
    {
     "ename": "SyntaxError",
     "evalue": "invalid syntax (<ipython-input-22-816ddd678e11>, line 1)",
     "output_type": "error",
     "traceback": [
      "\u001b[0;36m  File \u001b[0;32m\"<ipython-input-22-816ddd678e11>\"\u001b[0;36m, line \u001b[0;32m1\u001b[0m\n\u001b[0;31m    500 ... 200\u001b[0m\n\u001b[0m        ^\u001b[0m\n\u001b[0;31mSyntaxError\u001b[0m\u001b[0;31m:\u001b[0m invalid syntax\n"
     ]
    }
   ],
   "source": [
    "500 ... 200\n",
    "50  "
   ]
  },
  {
   "cell_type": "code",
   "execution_count": null,
   "metadata": {},
   "outputs": [],
   "source": []
  },
  {
   "cell_type": "code",
   "execution_count": null,
   "metadata": {},
   "outputs": [],
   "source": []
  },
  {
   "cell_type": "code",
   "execution_count": null,
   "metadata": {},
   "outputs": [],
   "source": []
  },
  {
   "cell_type": "code",
   "execution_count": null,
   "metadata": {},
   "outputs": [],
   "source": []
  },
  {
   "cell_type": "code",
   "execution_count": null,
   "metadata": {},
   "outputs": [],
   "source": []
  },
  {
   "cell_type": "code",
   "execution_count": null,
   "metadata": {},
   "outputs": [],
   "source": []
  },
  {
   "cell_type": "code",
   "execution_count": null,
   "metadata": {},
   "outputs": [],
   "source": []
  },
  {
   "cell_type": "code",
   "execution_count": null,
   "metadata": {},
   "outputs": [],
   "source": []
  },
  {
   "cell_type": "code",
   "execution_count": null,
   "metadata": {},
   "outputs": [],
   "source": []
  },
  {
   "cell_type": "code",
   "execution_count": null,
   "metadata": {},
   "outputs": [],
   "source": []
  }
 ],
 "metadata": {
  "kernelspec": {
   "display_name": "Python 3 (ipykernel)",
   "language": "python",
   "name": "python3"
  },
  "language_info": {
   "codemirror_mode": {
    "name": "ipython",
    "version": 3
   },
   "file_extension": ".py",
   "mimetype": "text/x-python",
   "name": "python",
   "nbconvert_exporter": "python",
   "pygments_lexer": "ipython3",
   "version": "3.9.14"
  }
 },
 "nbformat": 4,
 "nbformat_minor": 4
}
